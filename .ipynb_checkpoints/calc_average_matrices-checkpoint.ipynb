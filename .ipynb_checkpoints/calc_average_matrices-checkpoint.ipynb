{
 "cells": [
  {
   "cell_type": "code",
   "execution_count": 1,
   "id": "4817ef1b",
   "metadata": {},
   "outputs": [],
   "source": [
    "import os\n",
    "import numpy as np\n",
    "import matplotlib.pyplot as plt\n",
    "import seaborn as sns\n",
    "\n",
    "%matplotlib inline"
   ]
  },
  {
   "cell_type": "code",
   "execution_count": 2,
   "id": "756da4fb",
   "metadata": {},
   "outputs": [
    {
     "name": "stdout",
     "output_type": "stream",
     "text": [
      "./p1/result/test.npy\n",
      "[[ 2  0  1  0  0  0  0]\n",
      " [ 0  1  3  0  0  0  0]\n",
      " [ 1  0 12  1  1  0  0]\n",
      " [ 0  0  0  8  0  0  0]\n",
      " [ 0  0  0  2  1  0  0]\n",
      " [ 0  0  2  0  0  3  1]\n",
      " [ 0  1  0  0  0  0  4]]\n",
      "./p1/result/train.npy\n",
      "[[ 51   0   0   0   0   0   0]\n",
      " [  0  51   0   0   0   0   0]\n",
      " [  0   0 126   0   0   0   0]\n",
      " [  0   0   0  60   0   0   0]\n",
      " [  0   0   0   0  36   0   0]\n",
      " [  2   0   0   0   0  28   0]\n",
      " [  0   0   0   0   0   0  42]]\n",
      "./p1/result/valid.npy\n",
      "[[ 1  0  0  0  0  0  2]\n",
      " [ 0  1  8  0  0  0  1]\n",
      " [ 1  1 11  0  0  0  1]\n",
      " [ 1  0  0  4  0  0  0]\n",
      " [ 0  0  0  1  3  0  0]\n",
      " [ 0  0  2  0  0  4  0]\n",
      " [ 0  0  0  0  0  0  2]]\n",
      "./p2/result/test.npy\n",
      "[[ 1  1  1  0  0  0  0]\n",
      " [ 0  1  8  0  0  0  0]\n",
      " [ 0  0 11  0  0  0  0]\n",
      " [ 0  0  1  3  1  0  0]\n",
      " [ 0  0  0  4  2  0  0]\n",
      " [ 0  0  2  0  0  2  0]\n",
      " [ 0  0  0  0  0  0  6]]\n",
      "./p2/result/train.npy\n",
      "[[ 51   0   0   0   0   0   0]\n",
      " [  0  54   0   0   0   0   0]\n",
      " [  0   0 135   0   0   0   0]\n",
      " [  0   0   0  60   0   0   0]\n",
      " [  0   0   0   0  30   0   0]\n",
      " [  1   0   0   0   0  35   0]\n",
      " [  0   0   0   0   0   0  30]]\n",
      "./p2/result/valid.npy\n",
      "[[ 2  0  1  0  0  0  0]\n",
      " [ 0  1  3  0  0  0  0]\n",
      " [ 0  0 12  2  0  1  0]\n",
      " [ 1  0  0  7  0  0  0]\n",
      " [ 0  0  0  2  1  0  0]\n",
      " [ 0  0  0  0  0  5  1]\n",
      " [ 0  1  0  0  0  0  4]]\n",
      "./p3/result/test.npy\n",
      "[[ 2  0  4  0  0  0  0]\n",
      " [ 0  2  2  0  0  0  0]\n",
      " [ 0  3 16  0  0  0  0]\n",
      " [ 0  0  0  6  0  0  0]\n",
      " [ 1  0  0  0  1  0  0]\n",
      " [ 0  0  1  0  0  2  0]\n",
      " [ 0  0  0  0  0  0  4]]\n",
      "./p3/result/train.npy\n",
      "[[ 45   0   0   0   0   0   0]\n",
      " [  0  54   0   0   0   0   0]\n",
      " [  0   0 123   0   0   0   0]\n",
      " [  0   0   0  69   0   0   0]\n",
      " [  0   0   0   0  33   0   0]\n",
      " [  0   0   0   0   0  45   0]\n",
      " [  0   0   0   0   0   0  33]]\n",
      "./p3/result/valid.npy\n",
      "[[ 1  0  1  0  1  0  0]\n",
      " [ 0  2  7  0  0  0  0]\n",
      " [ 0  1 10  0  0  0  0]\n",
      " [ 0  0  1  4  0  0  0]\n",
      " [ 0  0  0  4  2  0  0]\n",
      " [ 0  0  2  0  0  2  0]\n",
      " [ 0  0  0  0  0  0  6]]\n",
      "./p4/result/test.npy\n",
      "[[ 2  0  5  0  0  0  1]\n",
      " [ 0  2  2  0  0  0  0]\n",
      " [ 0  2 10  0  0  0  0]\n",
      " [ 0  0  1  5  3  0  0]\n",
      " [ 0  0  0  0  4  0  0]\n",
      " [ 0  0  0  0  0  3  0]\n",
      " [ 0  0  0  0  0  0  4]]\n",
      "./p4/result/train.npy\n",
      "[[ 23   0   4   0   0   0   0]\n",
      " [  0  68   1   0   0   0   0]\n",
      " [  0   2 117   1   0   0   0]\n",
      " [  0   0   0  54   0   0   0]\n",
      " [  0   0   0   0  39   0   0]\n",
      " [  0   0   0   0   0  48   0]\n",
      " [  0   0   0   0   0   0  39]]\n",
      "./p4/result/valid.npy\n",
      "[[ 1  0  5  0  0  0  0]\n",
      " [ 0  3  1  0  0  0  0]\n",
      " [ 0  3 16  0  0  0  0]\n",
      " [ 0  0  1  5  0  0  0]\n",
      " [ 0  0  1  0  1  0  0]\n",
      " [ 0  0  1  0  0  2  0]\n",
      " [ 0  0  1  0  0  0  3]]\n",
      "./p5/result/test.npy\n",
      "[[1 0 0 0 0 0 2]\n",
      " [0 1 7 0 0 2 0]\n",
      " [1 2 9 0 0 2 0]\n",
      " [1 0 0 4 0 0 0]\n",
      " [0 0 0 1 3 0 0]\n",
      " [1 0 1 0 0 4 0]\n",
      " [0 0 0 0 0 0 2]]\n",
      "./p5/result/train.npy\n",
      "[[ 36   0   0   0   0   0   0]\n",
      " [  0  47   4   0   0   0   0]\n",
      " [  0   0 135   0   0   0   0]\n",
      " [  0   0   0  57   0   0   0]\n",
      " [  0   0   0   0  33   0   0]\n",
      " [  0   0   0   0   0  39   0]\n",
      " [  0   0   0   0   0   0  45]]\n",
      "./p5/result/valid.npy\n",
      "[[3 0 2 0 0 1 2]\n",
      " [0 2 2 0 0 0 0]\n",
      " [1 0 9 1 0 1 0]\n",
      " [0 0 1 8 0 0 0]\n",
      " [0 0 0 1 3 0 0]\n",
      " [1 0 0 0 0 2 0]\n",
      " [0 0 0 0 0 0 4]]\n"
     ]
    }
   ],
   "source": [
    "target_dirs = [\"./p1/\", \"./p2/\", \"./p3/\", \"./p4/\", \"./p5/\"]\n",
    "in_dir = \"result/\"\n",
    "keys = [\"test\", \"train\", \"valid\"]\n",
    "cm_sum = {}\n",
    "for d in target_dirs:\n",
    "    file_list = [d + in_dir + f for f in os.listdir(d+in_dir)]\n",
    "    for i, f in enumerate(file_list):\n",
    "        print(f)\n",
    "        tmp_array = np.load(f)\n",
    "        print(tmp_array)\n",
    "        if keys[i] not in cm_sum.keys():\n",
    "            cm_sum[keys[i]] = tmp_array\n",
    "        else:\n",
    "            cm_sum[keys[i]] += tmp_array"
   ]
  },
  {
   "cell_type": "code",
   "execution_count": 3,
   "id": "a7a3d601",
   "metadata": {},
   "outputs": [],
   "source": [
    "train = cm_sum[\"train\"]\n",
    "valid = cm_sum[\"valid\"]\n",
    "test = cm_sum[\"test\"]\n"
   ]
  },
  {
   "cell_type": "code",
   "execution_count": 4,
   "id": "ebfce768",
   "metadata": {},
   "outputs": [],
   "source": [
    "def calculate_precision_recall(confusion_matrix):\n",
    "    # 各クラスのTrue Positive（真陽性）を取得\n",
    "    tp = np.diag(confusion_matrix)\n",
    "    \n",
    "    acc = np.diag(confusion_matrix).sum() / confusion_matrix.sum()\n",
    "    \n",
    "    # Precision（適合率）を計算\n",
    "    precision = tp / confusion_matrix.sum(axis=0)\n",
    "    \n",
    "    # Recall（再現率）を計算\n",
    "    recall = tp / confusion_matrix.sum(axis=1)\n",
    "    \n",
    "    return acc, precision, recall\n",
    "\n",
    "train_acc, train_precisions, train_recalls = calculate_precision_recall(cm_sum[\"train\"])\n",
    "valid_acc, valid_precisions, valid_recalls = calculate_precision_recall(cm_sum[\"valid\"])\n",
    "test_acc, test_precisions, test_recalls = calculate_precision_recall(cm_sum[\"test\"])"
   ]
  },
  {
   "cell_type": "code",
   "execution_count": 5,
   "id": "ec0db01c",
   "metadata": {
    "scrolled": true
   },
   "outputs": [
    {
     "name": "stdout",
     "output_type": "stream",
     "text": [
      "train_acc: 0.9924471299093656\n",
      "train_precisions: [0.98564593 0.99275362 0.98604651 0.99667774 1.         1.\n",
      " 1.        ]\n",
      "train_recalls: [0.98095238 0.98207885 0.99530516 1.         1.         0.98484848\n",
      " 1.        ]\n",
      "valid_acc: 0.6681818181818182\n",
      "valid_precisions: [0.61538462 0.6        0.59183673 0.71794872 0.90909091 0.83333333\n",
      " 0.73076923]\n",
      "valid_recalls: [0.34782609 0.29032258 0.81690141 0.84848485 0.52631579 0.68181818\n",
      " 0.9047619 ]\n",
      "test_acc: 0.6545454545454545\n",
      "test_precisions: [0.61538462 0.4375     0.58585859 0.76470588 0.6875     0.77777778\n",
      " 0.83333333]\n",
      "test_recalls: [0.34782609 0.22580645 0.81690141 0.78787879 0.57894737 0.63636364\n",
      " 0.95238095]\n"
     ]
    }
   ],
   "source": [
    "print(\"train_acc:\",train_acc)\n",
    "print(\"train_precisions:\",train_precisions)\n",
    "print(\"train_recalls:\",train_recalls)\n",
    "\n",
    "print(\"valid_acc:\",valid_acc)\n",
    "print(\"valid_precisions:\",valid_precisions)\n",
    "print(\"valid_recalls:\",valid_recalls)\n",
    "\n",
    "print(\"test_acc:\",test_acc)\n",
    "print(\"test_precisions:\",test_precisions)\n",
    "print(\"test_recalls:\",test_recalls)"
   ]
  },
  {
   "cell_type": "code",
   "execution_count": 6,
   "id": "23e20561",
   "metadata": {},
   "outputs": [
    {
     "data": {
      "image/png": "[encoded data removed]",
      "text/plain": [
       "<Figure size 640x480 with 2 Axes>"
      ]
     },
     "metadata": {},
     "output_type": "display_data"
    },
    {
     "data": {
      "image/png": "[encoded data removed]",
      "text/plain": [
       "<Figure size 640x480 with 2 Axes>"
      ]
     },
     "metadata": {},
     "output_type": "display_data"
    },
    {
     "name": "stdout",
     "output_type": "stream",
     "text": [
      "train_precision: [0.98564593 0.99275362 0.98604651 0.99667774 1.         1.\n",
      " 1.        ]\n",
      "train_recall [0.98095238 0.98207885 0.99530516 1.         1.         0.98484848\n",
      " 1.        ]\n",
      "[[206   0   4   0   0   0   0]\n",
      " [  0 274   5   0   0   0   0]\n",
      " [  0   2 636   1   0   0   0]\n",
      " [  0   0   0 300   0   0   0]\n",
      " [  0   0   0   0 171   0   0]\n",
      " [  3   0   0   0   0 195   0]\n",
      " [  0   0   0   0   0   0 189]]\n",
      "valid_precision: [0.61538462 0.6        0.59183673 0.71794872 0.90909091 0.83333333\n",
      " 0.73076923]\n",
      "valid_recall [0.34782609 0.29032258 0.81690141 0.84848485 0.52631579 0.68181818\n",
      " 0.9047619 ]\n",
      "[[ 8  0  9  0  1  1  4]\n",
      " [ 0  9 21  0  0  0  1]\n",
      " [ 2  5 58  3  0  2  1]\n",
      " [ 2  0  3 28  0  0  0]\n",
      " [ 0  0  1  8 10  0  0]\n",
      " [ 1  0  5  0  0 15  1]\n",
      " [ 0  1  1  0  0  0 19]]\n"
     ]
    }
   ],
   "source": [
    "sns.heatmap(train, annot=True)\n",
    "if not os.path.exists(\"./image\"):\n",
    "    os.mkdir(\"./image\")\n",
    "plt.title(\"train_data\")\n",
    "#plt.savefig('./image/train_confusion_matrix.png')\n",
    "plt.show()\n",
    "sns.heatmap(valid, annot=True)\n",
    "plt.title(\"valid_data\")\n",
    "#plt.savefig('./image/valid_confusion_matrix.png')\n",
    "plt.show()\n",
    "print(\"train_precision:\",train_precisions)\n",
    "print(\"train_recall\",train_recalls)\n",
    "print(train)\n",
    "\n",
    "print(\"valid_precision:\", valid_precisions)\n",
    "print(\"valid_recall\", valid_recalls)\n",
    "print(valid)"
   ]
  },
  {
   "cell_type": "code",
   "execution_count": null,
   "id": "8d801cc0",
   "metadata": {},
   "outputs": [],
   "source": []
  }
 ],
 "metadata": {
  "kernelspec": {
   "display_name": "Python 3 (ipykernel)",
   "language": "python",
   "name": "python3"
  },
  "language_info": {
   "codemirror_mode": {
    "name": "ipython",
    "version": 3
   },
   "file_extension": ".py",
   "mimetype": "text/x-python",
   "name": "python",
   "nbconvert_exporter": "python",
   "pygments_lexer": "ipython3",
   "version": "3.9.15"
  }
 },
 "nbformat": 4,
 "nbformat_minor": 5
}
