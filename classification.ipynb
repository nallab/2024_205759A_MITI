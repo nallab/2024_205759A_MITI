{
 "cells": [
  {
   "cell_type": "code",
   "execution_count": 1,
   "id": "0d56bbe0",
   "metadata": {},
   "outputs": [],
   "source": [
    "import os\n",
    "import shutil\n",
    "import numpy as np\n",
    "import pandas as pd\n",
    "import torch\n",
    "import matplotlib.pyplot as plt\n",
    "import seaborn as sns\n",
    "from sklearn.model_selection import train_test_split \n",
    "from sklearn.metrics import confusion_matrix, classification_report, precision_score, recall_score\n",
    "import transformers\n",
    "\n",
    "%matplotlib inline"
   ]
  },
  {
   "cell_type": "code",
   "execution_count": 2,
   "id": "fc565c58",
   "metadata": {},
   "outputs": [],
   "source": [
    "n_validation = 1"
   ]
  },
  {
   "cell_type": "code",
   "execution_count": 3,
   "id": "d6f91a6f",
   "metadata": {},
   "outputs": [],
   "source": [
    "class DatasetForClassification(torch.utils.data.Dataset):\n",
    "    def __init__(self, data, tokenizer):\n",
    "        self.data = data\n",
    "        self.tokenizer = tokenizer\n",
    "        self.token_max_length = 300\n",
    "        \n",
    "    def __len__(self):\n",
    "        return len(self.data)\n",
    "    \n",
    "    def __getitem__(self, idx):\n",
    "        sentence = self.data[idx][\"sentence\"]\n",
    "        label = self.data[idx][\"miti_code\"]\n",
    "        inputs = tokenizer(sentence, padding=\"max_length\", truncation=True, max_length=self.token_max_length)\n",
    "        inputs[\"input_ids\"] = torch.tensor(data=inputs[\"input_ids\"], dtype=torch.long)\n",
    "        inputs[\"label\"] = torch.tensor(label, dtype=torch.long)\n",
    "        inputs[\"token_type_ids\"] = torch.tensor(data=inputs[\"token_type_ids\"], dtype=torch.long)\n",
    "        inputs[\"attention_mask\"] = torch.tensor(data=inputs[\"attention_mask\"], dtype=torch.long)\n",
    "        return inputs"
   ]
  },
  {
   "cell_type": "code",
   "execution_count": 4,
   "id": "27a6cc3b",
   "metadata": {},
   "outputs": [
    {
     "name": "stderr",
     "output_type": "stream",
     "text": [
      "Some weights of BertForSequenceClassification were not initialized from the model checkpoint at cl-tohoku/bert-base-japanese-v3 and are newly initialized: ['classifier.weight', 'classifier.bias']\n",
      "You should probably TRAIN this model on a down-stream task to be able to use it for predictions and inference.\n"
     ]
    }
   ],
   "source": [
    "model_name = \"cl-tohoku/bert-base-japanese-v3\"\n",
    "model = transformers.BertForSequenceClassification.from_pretrained(model_name, num_labels=7)\n",
    "tokenizer = transformers.BertJapaneseTokenizer.from_pretrained(model_name)"
   ]
  },
  {
   "cell_type": "code",
   "execution_count": 5,
   "id": "d87ad0e2",
   "metadata": {},
   "outputs": [],
   "source": [
    "target_dir = \"./datasets/p{}/\".format(n_validation)\n",
    "filenames = [\"train.csv\", \"valid.csv\", \"test.csv\"]\n",
    "\n",
    "train_df = pd.read_csv(target_dir + filenames[0])\n",
    "valid_df = pd.read_csv(target_dir + filenames[1])\n",
    "test_df = pd.read_csv(target_dir + filenames[2])\n",
    "train_data = train_df.to_dict(orient=\"records\")\n",
    "valid_data = valid_df.to_dict(orient=\"records\")\n",
    "test_data = test_df.to_dict(orient=\"records\")"
   ]
  },
  {
   "cell_type": "code",
   "execution_count": null,
   "id": "89befaa4",
   "metadata": {},
   "outputs": [],
   "source": []
  },
  {
   "cell_type": "code",
   "execution_count": 6,
   "id": "9ec88b92",
   "metadata": {},
   "outputs": [],
   "source": [
    "batch_size=16\n",
    "\n",
    "train_dataset = DatasetForClassification(train_data, tokenizer)\n",
    "valid_dataset = DatasetForClassification(valid_data, tokenizer)\n",
    "test_dataset = DatasetForClassification(test_data, tokenizer)\n",
    "\n",
    "train_dataloader = torch.utils.data.DataLoader(train_dataset, batch_size=batch_size, shuffle=True)\n",
    "valid_dataloader = torch.utils.data.DataLoader(valid_dataset, batch_size=batch_size, shuffle=True)\n",
    "test_dataloader  = torch.utils.data.DataLoader(test_dataset,  batch_size=batch_size, shuffle=True)"
   ]
  },
  {
   "cell_type": "code",
   "execution_count": null,
   "id": "abfd3a81",
   "metadata": {},
   "outputs": [],
   "source": []
  },
  {
   "cell_type": "code",
   "execution_count": 7,
   "id": "2ec70981",
   "metadata": {},
   "outputs": [],
   "source": [
    "epochs = 4\n",
    "no_decay = {\"bias\", \"LayerNorm.weight\"}\n",
    "optimizer_grouped_parameters = [\n",
    "    {\n",
    "        \"params\": [\n",
    "            param for name, param in model.named_parameters() if not name in no_decay\n",
    "        ],\n",
    "        \"weight_decay\": 0.01,\n",
    "    },\n",
    "    {\n",
    "        \"params\": [\n",
    "            param for name, param in model.named_parameters() if name in no_decay\n",
    "        ],\n",
    "        \"weight_decay\": 0.0,\n",
    "    },\n",
    "]\n",
    "optimizer = torch.optim.AdamW(optimizer_grouped_parameters, lr=1e-5)\n",
    "#total_step = len(train_dataloader_augmented) * epochs\n",
    "#scheduler = transformers.optimization.get_linear_schedule_with_warmup(optimizer=optimizer, num_warmup_steps=0, num_training_steps=total_step)\n",
    "scaler = torch.cuda.amp.GradScaler()"
   ]
  },
  {
   "cell_type": "code",
   "execution_count": 8,
   "id": "148b55a2",
   "metadata": {},
   "outputs": [
    {
     "name": "stdout",
     "output_type": "stream",
     "text": [
      "Confusion Matrix:\n",
      "[[0 1 0 1 0 0]\n",
      " [0 0 1 0 0 0]\n",
      " [0 0 0 2 0 0]\n",
      " [0 0 0 2 0 0]\n",
      " [0 0 0 0 2 0]\n",
      " [0 0 0 0 0 1]]\n"
     ]
    }
   ],
   "source": [
    "def show_confusion_matrix(actual_label, predicted_label):\n",
    "    cm = confusion_matrix(actual_label, predicted_label)\n",
    "    print(cm)\n",
    "\n",
    "actual_labels = torch.tensor([[1, 2, 3, 4, 5],[1, 3, 4, 5, 6]]) \n",
    "predicted_labels = torch.tensor([[2, 3, 4, 4, 5],[4, 4, 4, 5, 6]])\n",
    "\n",
    "# actual_labelsとpredicted_labelsを1次元のリストに変換\n",
    "actual_labels_list = actual_labels.flatten().tolist()\n",
    "predicted_labels_list = predicted_labels.flatten().tolist()\n",
    "\n",
    "# 混同行列の作成\n",
    "cm = confusion_matrix(actual_labels_list, predicted_labels_list)\n",
    "\n",
    "# 混同行列を出力\n",
    "print(\"Confusion Matrix:\")\n",
    "print(cm)"
   ]
  },
  {
   "cell_type": "code",
   "execution_count": null,
   "id": "76392fe0",
   "metadata": {},
   "outputs": [],
   "source": []
  },
  {
   "cell_type": "code",
   "execution_count": 9,
   "id": "7719c3e4",
   "metadata": {},
   "outputs": [],
   "source": [
    "trainlosslist = []\n",
    "trainacclist = []\n",
    "validacclist = []\n",
    "train_predicted_labels_list = []\n",
    "train_actual_labels_list = []\n",
    "\n",
    "if torch.cuda.is_available():\n",
    "    device = \"cuda\"\n",
    "else:\n",
    "    device = \"cpu\""
   ]
  },
  {
   "cell_type": "code",
   "execution_count": 10,
   "id": "20b2a317",
   "metadata": {},
   "outputs": [
    {
     "name": "stdout",
     "output_type": "stream",
     "text": [
      "epoch 1   train_loss: 1.8618128159466911  ,  train_acc: 0.27941176470588236 ,  valid_acc: 0.27777777777777773\n",
      "epoch 2   train_loss: 1.6049113554113053  ,  train_acc: 0.35661764705882354 ,  valid_acc: 0.3819444444444444\n",
      "epoch 3   train_loss: 1.4222780115464155  ,  train_acc: 0.5514705882352942 ,  valid_acc: 0.5277777777777778\n",
      "epoch 4   train_loss: 1.1600032133214615  ,  train_acc: 0.7132352941176471 ,  valid_acc: 0.5763888888888888\n"
     ]
    }
   ],
   "source": [
    "model.to(device)\n",
    "train_predicted_labels_list = []\n",
    "train_actual_labels_list = []\n",
    "valid_predicted_labels_list = []\n",
    "valid_actual_labels_list = []\n",
    "\n",
    "for epoch in range(epochs):\n",
    "    model.train()\n",
    "    total_train_loss = 0\n",
    "    total_train_acc = 0\n",
    "    print(\"epoch\", epoch+1, end=\"   \")\n",
    "    for batch in train_dataloader:\n",
    "        input_ids = batch[\"input_ids\"].to(device)\n",
    "        attention_masks = batch[\"attention_mask\"].to(device)\n",
    "        labels = batch[\"label\"].to(device)\n",
    "        \n",
    "        with torch.cuda.amp.autocast():\n",
    "            outputs = model(input_ids=input_ids, attention_mask=attention_masks, labels=labels)\n",
    "            loss = outputs.loss.cuda()\n",
    "\n",
    "        optimizer.zero_grad()\n",
    "        scaler.scale(loss).backward()\n",
    "        scaler.step(optimizer)\n",
    "        scaler.update()\n",
    "        #print(\"loss:\",loss.item())\n",
    "        total_train_loss += loss.item()\n",
    "        predictions = np.argmax(outputs.logits.detach().to(\"cpu\").numpy(), axis=1)\n",
    "        if epoch == epochs-1:\n",
    "            train_predicted_labels_list.extend(predictions)\n",
    "            train_actual_labels_list.extend(labels.to(\"cpu\").numpy())\n",
    "        acc = np.mean(predictions == labels.to(\"cpu\").numpy())\n",
    "        total_train_acc += acc\n",
    "    avg_train_loss = total_train_loss / len(train_dataloader)\n",
    "    avg_train_acc = total_train_acc / len(train_dataloader)\n",
    "    print(\"train_loss:\", avg_train_loss, \" ,  train_acc:\", avg_train_acc, end=\" ,  \")\n",
    "    trainlosslist.append(avg_train_loss)\n",
    "    trainacclist.append(avg_train_acc)\n",
    "    \n",
    "    \n",
    "\n",
    "    model.eval()\n",
    "    total_valid_acc = 0\n",
    "    for batch in valid_dataloader:\n",
    "        input_ids = batch[\"input_ids\"].to(device)\n",
    "        attention_masks = batch[\"attention_mask\"].to(device)\n",
    "        labels = batch[\"label\"].to(device)\n",
    "        with torch.no_grad():\n",
    "            outputs = model(input_ids, attention_mask=attention_masks)\n",
    "            logits = outputs.logits\n",
    "        predictions = np.argmax(logits.detach().to(\"cpu\").numpy(), axis=1)\n",
    "        if epoch == epochs-1:\n",
    "            valid_predicted_labels_list.extend(predictions)\n",
    "            valid_actual_labels_list.extend(labels.to(\"cpu\").numpy())\n",
    "        acc = np.mean(predictions == labels.to(\"cpu\").numpy())\n",
    "        total_valid_acc += acc\n",
    "    avg_valid_acc = total_valid_acc / len(valid_dataloader)\n",
    "    print(\"valid_acc:\", avg_valid_acc)\n",
    "    validacclist.append(avg_valid_acc)"
   ]
  },
  {
   "cell_type": "code",
   "execution_count": 12,
   "id": "c2046de8",
   "metadata": {},
   "outputs": [
    {
     "data": {
      "image/png": "[encoded data removed]",
      "text/plain": [
       "<Figure size 640x480 with 2 Axes>"
      ]
     },
     "metadata": {},
     "output_type": "display_data"
    },
    {
     "data": {
      "image/png": "[encoded data removed]",
      "text/plain": [
       "<Figure size 640x480 with 2 Axes>"
      ]
     },
     "metadata": {},
     "output_type": "display_data"
    },
    {
     "name": "stdout",
     "output_type": "stream",
     "text": [
      "train_precision: [0.88461538 0.83333333 0.64227642 0.56451613 0.83333333 0.95\n",
      " 1.        ]\n",
      "train_recall [0.67647059 0.16666667 0.9875     0.76086957 0.38461538 0.63333333\n",
      " 0.83333333]\n",
      "[[23  0  7  4  0  0  0]\n",
      " [ 1  5 19  4  0  1  0]\n",
      " [ 0  1 79  0  0  0  0]\n",
      " [ 0  0 10 35  1  0  0]\n",
      " [ 2  0  3 11 10  0  0]\n",
      " [ 0  0  5  5  1 19  0]\n",
      " [ 0  0  0  3  0  0 15]]\n",
      "valid_precision: [0.66666667 0.         0.44       0.5        0.5        0.8\n",
      " 0.85714286]\n",
      "valid_recall [0.66666667 0.         0.91666667 0.14285714 0.2        0.66666667\n",
      " 1.        ]\n",
      "[[ 2  0  1  0  0  0  0]\n",
      " [ 0  0  5  0  0  0  0]\n",
      " [ 0  0 11  0  0  1  0]\n",
      " [ 0  0  4  1  1  0  1]\n",
      " [ 1  0  2  1  1  0  0]\n",
      " [ 0  0  2  0  0  4  0]\n",
      " [ 0  0  0  0  0  0  6]]\n"
     ]
    },
    {
     "name": "stderr",
     "output_type": "stream",
     "text": [
      "C:\\Users\\higak\\anaconda3\\envs\\nlp\\lib\\site-packages\\sklearn\\metrics\\_classification.py:1471: UndefinedMetricWarning: Precision is ill-defined and being set to 0.0 in labels with no predicted samples. Use `zero_division` parameter to control this behavior.\n",
      "  _warn_prf(average, modifier, msg_start, len(result))\n"
     ]
    }
   ],
   "source": [
    "\n",
    "for i, label in enumerate(train_actual_labels_list):\n",
    "    if type(train_actual_labels_list[i]) == type(torch.tensor([0])):\n",
    "        train_actual_labels_list[i] = label.to(\"cpu\").numpy()\n",
    "cm_train = confusion_matrix(train_actual_labels_list, train_predicted_labels_list)\n",
    "\n",
    "for i, label in enumerate(valid_actual_labels_list):\n",
    "    if type(valid_actual_labels_list[i]) == type(torch.tensor([0])):\n",
    "        valid_actual_labels_list[i] = label.to(\"cpu\").numpy()\n",
    "cm_valid = confusion_matrix(valid_actual_labels_list, valid_predicted_labels_list)\n",
    "\n",
    "sns.heatmap(cm_train, annot=True)\n",
    "if not os.path.exists(\"./image\"):\n",
    "    os.mkdir(\"./image\")\n",
    "    os.mkdir(\"./image/p{}\".format(n_validation))\n",
    "if not os.path.exists(\"./image/p{}\".format(n_validation)):\n",
    "    os.mkdir(\"./image/p{}\".format(n_validation))\n",
    "plt.title(\"train_data\")\n",
    "plt.savefig('./image/p{}/train_confusion_matrix.png'.format(n_validation))\n",
    "plt.show()\n",
    "sns.heatmap(cm_valid, annot=True)\n",
    "plt.title(\"valid_data\")\n",
    "plt.savefig('./image/p{}/valid_confusion_matrix.png'.format(n_validation))\n",
    "plt.show()\n",
    "print(\"train_precision:\",precision_score(train_actual_labels_list, train_predicted_labels_list, average=None))\n",
    "print(\"train_recall\",recall_score(train_actual_labels_list, train_predicted_labels_list, average=None))\n",
    "print(cm_train)\n",
    "\n",
    "precision = precision_score(valid_actual_labels_list, valid_predicted_labels_list, average=None)\n",
    "print(\"valid_precision:\", precision)\n",
    "recall = recall_score(valid_actual_labels_list, valid_predicted_labels_list, average=None)\n",
    "print(\"valid_recall\", recall)\n",
    "print(cm_valid)"
   ]
  },
  {
   "cell_type": "code",
   "execution_count": null,
   "id": "d22b0770",
   "metadata": {},
   "outputs": [],
   "source": [
    "precision_recall = [np.round(precision, 3), np.round(recall, 3)]\n",
    "num_labels = 7\n",
    "print(precision_recall)\n",
    "rows = [\"precision\", \"recall\"]\n",
    "columns = range(num_labels)\n",
    "pr_df = pd.DataFrame(precision_recall, index=rows, columns=columns)\n",
    "\n",
    "fig, ax = plt.subplots(figsize=(5,3))\n",
    "ax.axis(\"off\")\n",
    "ax.axis(\"tight\")\n",
    "ax.set_title(\"valid_data precision_recall\", loc=\"right\")\n",
    "ax.table(cellText=pr_df.values,\n",
    "         rowLabels=pr_df.index,\n",
    "        colLabels=pr_df.columns,\n",
    "        bbox=[0,0.4,2,0.5])\n",
    "\n",
    "plt.show()"
   ]
  },
  {
   "cell_type": "code",
   "execution_count": null,
   "id": "afbfb767",
   "metadata": {},
   "outputs": [],
   "source": [
    "print(type(torch.tensor([1]))=='torch.Tensor')"
   ]
  },
  {
   "cell_type": "code",
   "execution_count": null,
   "id": "7d29226f",
   "metadata": {},
   "outputs": [],
   "source": [
    "total_test_acc = 0\n",
    "test_predicted_labels_list = []\n",
    "test_actual_labels_list = []\n",
    "for batch in test_dataloader:\n",
    "    input_ids = batch[\"input_ids\"].to(device)\n",
    "    attention_masks = batch[\"attention_mask\"].to(device)\n",
    "    labels = batch[\"label\"].to(device)\n",
    "    with torch.no_grad():\n",
    "        outputs = model(input_ids, attention_mask=attention_masks)\n",
    "        logits = outputs.logits\n",
    "    predictions = np.argmax(logits.detach().to(\"cpu\").numpy(), axis=1)\n",
    "    test_predicted_labels_list.extend(predictions)\n",
    "    test_actual_labels_list.extend(labels.to(\"cpu\").numpy())\n",
    "    acc = np.mean(predictions == labels.to(\"cpu\").numpy())\n",
    "    total_test_acc += acc\n",
    "\n",
    "avg_test_acc = total_test_acc / len(test_dataloader)\n",
    "print(\"test_acc:\", avg_test_acc)"
   ]
  },
  {
   "cell_type": "code",
   "execution_count": null,
   "id": "f587f6b1",
   "metadata": {},
   "outputs": [],
   "source": [
    "print(test_actual_labels_list)\n",
    "print(test_predicted_labels_list)"
   ]
  },
  {
   "cell_type": "code",
   "execution_count": null,
   "id": "48193ce8",
   "metadata": {},
   "outputs": [],
   "source": [
    "cm_test = confusion_matrix(test_actual_labels_list, test_predicted_labels_list)\n",
    "#plt.figure(figsize=(4,4))\n",
    "sns.heatmap(cm_test, annot=True, xticklabels=range(0, 6), yticklabels=range(0, 6))\n",
    "plt.title(\"test_data\")\n",
    "plt.savefig('./image/p{}/test_confusion_matrix.png'.format(n_validation))\n",
    "plt.show()\n",
    "print(cm_test)\n",
    "test_precision = precision_score(test_actual_labels_list, test_predicted_labels_list, average=None)\n",
    "test_recall = recall_score(test_actual_labels_list, test_predicted_labels_list, average=None)\n",
    "print(\"test_precision:\", test_precision)\n",
    "print(\"test_recall:\", test_recall)"
   ]
  },
  {
   "cell_type": "markdown",
   "id": "a70303f6",
   "metadata": {},
   "source": [
    "それぞれのconfusion matrixをresultの中に保存しておく。"
   ]
  },
  {
   "cell_type": "code",
   "execution_count": null,
   "id": "f842a194",
   "metadata": {},
   "outputs": [],
   "source": [
    "precision_recall = [np.round(test_precision, 3), np.round(test_recall, 3)]\n",
    "num_labels = 7\n",
    "print(precision_recall)\n",
    "rows = [\"precision\", \"recall\"]\n",
    "columns = range(num_labels)\n",
    "pr_df = pd.DataFrame(precision_recall, index=rows, columns=columns)\n",
    "\n",
    "fig, ax = plt.subplots(figsize=(5,3))\n",
    "ax.axis(\"off\")\n",
    "ax.axis(\"tight\")\n",
    "ax.set_title(\"test_data precision_recall\", loc=\"right\")\n",
    "ax.table(cellText=pr_df.values,\n",
    "         rowLabels=pr_df.index,\n",
    "        colLabels=pr_df.columns,\n",
    "        bbox=[0,0.4,2,0.5])\n",
    "\n",
    "plt.show()"
   ]
  },
  {
   "cell_type": "code",
   "execution_count": null,
   "id": "963d0dcb",
   "metadata": {},
   "outputs": [],
   "source": [
    "save_dir = \"./result/p{}/\".format(n_validation)\n",
    "file_names = [\"train.npy\", \"valid.npy\", \"test.npy\"]\n",
    "confusion_matrices = {\n",
    "    \"train\":cm_train,\n",
    "    \"valid\":cm_valid,\n",
    "    \"test\":cm_test\n",
    "}\n",
    "if not os.path.exists(\"./result\"):\n",
    "    os.mkdir(\"./result\")\n",
    "if not os.path.exists(save_dir):\n",
    "    os.mkdir(save_dir)\n",
    "\n",
    "for key in confusion_matrices.keys():\n",
    "    np.save(save_dir + key, confusion_matrices[key])\n"
   ]
  },
  {
   "cell_type": "code",
   "execution_count": null,
   "id": "cd521eab",
   "metadata": {},
   "outputs": [],
   "source": [
    "ts = np.load(save_dir+\"valid.npy\")\n",
    "ts"
   ]
  },
  {
   "cell_type": "code",
   "execution_count": null,
   "id": "6705497b",
   "metadata": {},
   "outputs": [],
   "source": [
    "plt.figure(figsize=(8,4))\n",
    "plt.plot(range(epochs), trainacclist, 'b', label='Training Accuracy')\n",
    "plt.plot(range(epochs), validacclist, 'r', label='Valid Accuracy')\n",
    "plt.xlabel('Epochs')\n",
    "plt.ylabel('acc')\n",
    "plt.title(\"augmented_dataset\")\n",
    "plt.legend()\n",
    "plt.grid()\n",
    "if not os.path.exists(\"./image\"):\n",
    "    os.mkdir(\"./image\")\n",
    "plt.show()"
   ]
  },
  {
   "cell_type": "code",
   "execution_count": null,
   "id": "3fbae68a",
   "metadata": {},
   "outputs": [],
   "source": [
    "print(test_actual_labels_list)"
   ]
  },
  {
   "cell_type": "code",
   "execution_count": null,
   "id": "d5d4cfcf",
   "metadata": {},
   "outputs": [],
   "source": [
    "def test_func(sentence, label, tokenizer, model):\n",
    "    model.to(\"cpu\")\n",
    "    miticode_list = [\"該当なし\",\"単純な聞き返し\", \"複雑な聞き返し\", \"開かれた質問\", \"閉じた質問\", \"是認\", \"要約\"]\n",
    "    tokenized_sentence = tokenizer(sentence,  padding=\"max_length\", truncation=True, max_length=300)\n",
    "    input_ids = torch.tensor([tokenized_sentence[\"input_ids\"]])\n",
    "    attention_mask = torch.tensor([tokenized_sentence[\"attention_mask\"]])\n",
    "    with torch.no_grad():\n",
    "        outputs = model(input_ids, attention_mask=attention_mask)\n",
    "        logits = outputs.logits\n",
    "    #print(logits)\n",
    "    prediction = np.argmax(logits.detach().to(\"cpu\").numpy(), axis=1)\n",
    "    print(\"入力文\",sentence)\n",
    "    print(\"正答：\", miticode_list[label])\n",
    "    print(\"予測：\", miticode_list[prediction.item()])"
   ]
  },
  {
   "cell_type": "code",
   "execution_count": null,
   "id": "2dfe173f",
   "metadata": {},
   "outputs": [],
   "source": [
    "miticode_list = [\"該当なし\",\"単純な聞き返し\", \"複雑な聞き返し\", \"開かれた質問\", \"閉じた質問\", \"是認\", \"要約\"]"
   ]
  },
  {
   "cell_type": "code",
   "execution_count": null,
   "id": "45e83ed2",
   "metadata": {},
   "outputs": [],
   "source": [
    "test_sentence = \"この3ヵ月間で彼女のスピード違反切符は3回目です。保険の最高限度額を超えています。彼女を殺したくなります。彼女はそのお金はほかのことに必要なお金だと分からないのでしょうか？\"\n",
    "test_sentence += \"[SEP]あなたはそのことでかなり怒っていらっしゃいますね。\"\n",
    "test_func(test_sentence, 1, tokenizer, model)"
   ]
  },
  {
   "cell_type": "code",
   "execution_count": null,
   "id": "09bbced6",
   "metadata": {},
   "outputs": [],
   "source": []
  },
  {
   "cell_type": "code",
   "execution_count": null,
   "id": "0fb08ced",
   "metadata": {},
   "outputs": [],
   "source": [
    "test_sentence2 = 'そうですね。転職活動へのやる気を高めたいです。[SEP]やる気を高めて転職活動を行い、来年からは新しい職場で働きたいわけですね。[SEP]そうです。さすがに今の職場で来年度も働くイメージは持てません。'\n",
    "test_func(test_sentence2, 2, tokenizer, model)"
   ]
  },
  {
   "cell_type": "code",
   "execution_count": null,
   "id": "82edcc87",
   "metadata": {},
   "outputs": [],
   "source": []
  },
  {
   "cell_type": "code",
   "execution_count": null,
   "id": "c71ddfee",
   "metadata": {
    "scrolled": true
   },
   "outputs": [],
   "source": []
  },
  {
   "cell_type": "code",
   "execution_count": null,
   "id": "b27eaa48",
   "metadata": {},
   "outputs": [],
   "source": []
  },
  {
   "cell_type": "code",
   "execution_count": null,
   "id": "7a1dc78d",
   "metadata": {},
   "outputs": [],
   "source": []
  }
 ],
 "metadata": {
  "kernelspec": {
   "display_name": "Python 3 (ipykernel)",
   "language": "python",
   "name": "python3"
  },
  "language_info": {
   "codemirror_mode": {
    "name": "ipython",
    "version": 3
   },
   "file_extension": ".py",
   "mimetype": "text/x-python",
   "name": "python",
   "nbconvert_exporter": "python",
   "pygments_lexer": "ipython3",
   "version": "3.9.15"
  }
 },
 "nbformat": 4,
 "nbformat_minor": 5
}
